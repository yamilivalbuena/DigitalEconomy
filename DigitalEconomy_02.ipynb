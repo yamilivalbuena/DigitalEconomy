{
 "cells": [
  {
   "cell_type": "markdown",
   "metadata": {},
   "source": [
    "<p style=\"text-align: center;font-size:20px;\"> <strong>Unit 1.2 WORLD IMPACT</strong></p>\n",
    "<p style=\"text-align: center;\">Alan Peraza| Lisette Ruiz| Yamili Monserrat Valbuena.</p>\n",
    "\n",
    "***\n",
    "#### Describe the growth of the digital economy\n",
    "#### Describe the ICT (Information and communication technologies) Indicators\n",
    "#### Identify and describe ICT-based business models\n",
    "#### Explain strategic data analysis\n",
    "\n",
    "The analysis of strategic data allows us to realize in which context we find ourselves and what is the true outcome of the situation. This is considered a more in-depth concept compared to data analysis, as the person leading it has a deeper knowledge and understanding of the subject acquired from time of experience.\n",
    "The goal of this is to lay out a detailed plan to mature in analytical capabilities and transition from hindsight decision making to foresight decision making.\n",
    "That is, when you start digging into the data, we start to tackle a goal. And although there will be forks along the data path process, it is there that strategic vision allows us to maintain and understand the correct path; then it is possible to say that it is information and strategic knowledge that keeps us on the right track, putting the analytical method into practice. With this it is possible to obtain more specific and effective results.\n",
    "There are some elements considered relevant in the analysis of the data strategy, such as: Business requirements, Data supply and collection, Technological infrastructure requirements, Transformation of data into knowledge, among others.\n",
    "\n",
    "#### Describe ICT patents\n",
    "\n",
    "Patents, standards and their combination are important in the information and communication technology sector, in particular in mobile communication. Patents are responsible for the public disclosure of a new method of operating any aspect of an economic company, such as: electronic commerce, banking, insurance, tax compliance, among others. It is significant to note that business productivity has grown significantly due to the main topic revolution. This is the representation of a multiple use of technologies to revolutionize communication throughout the world. It is important to mention that ICT companies regularly face complex problems related to corporate law and intellectual property rights. On the other hand, it must be considered ´for the digital future that due to the importance of ICT, in order to solve patent problems a deep knowledge of technology is necessary. Patents protect technological inventions; this means that products or processes that provide new technological solutions to problems. An interesting fact is that this indicator can be used as a proxy for technological development in the ICT field. Last but not least, let us remember that ICT patents are mainly identified using International Patent Classification (IPC) codes and cover 13 areas such as the following: high-capacity information analysis, mobile communications, high-speed networks, computing high speed, etc.\n",
    "\n",
    "#### Describe the impact in other areas: telecommunications, health, agriculture, science, energy.\n",
    "\n",
    "This has impact in many daily routine areas, but one of the most interesting and uncredible is the case of health, that means, the emerging role of ICT has created a huge impact on healthcare. ICT helps the management to improve the patient safety and satisfaction, get updated to the latest technology, have some knowledge on population health and statistics and keep a note on the government mandates on track. On the other hand, the complex ICTs used in agriculture production, such as traceability systems, tend to be concentrated in large operations with access to more sophisticated export markets. telecentres and computer supply and connectivity programs for rural schools have been the most extensive experience.\n",
    "\n",
    "\n",
    "#### Identify the historical stages of the development of technology.\n",
    "#### Identify the relevant indicators of the digital economy.\n",
    "#### Identify the impact of ICTs in other areas.\n",
    "\n",
    "\n",
    "\n"
   ]
  },
  {
   "cell_type": "markdown",
   "metadata": {},
   "source": [
    "<p style=\"text-align: center;font-size:20px;\"> <strong>Questionnaire</strong></p>\n",
    "\n",
    "1.\t**In general terms, how does data analysis differ from specific data analysis?** \n",
    "\n",
    "A: This is more specific in the area that is being covered and logic, understanding and analytics are used to avoid taking wrong processes. \n",
    "\n",
    "2.\t**What is the purpose of specific data analysis?** \n",
    "\n",
    "R: laying out a detailed plan to mature in analytical capabilities and transition from hindsight decision making to foresight decision making. \n",
    "\n",
    "3.\t**Mention some of the most important elements of specific data analysis:** \n",
    "\n",
    "A: The student can answer any of the following elements: Business requirements, Data supply and collection, Technological infrastructure requirements, Transformation of data into knowledge, among others. \n",
    "\n",
    "4.\t**What are the patents in the information and communication technology sector in charge of?** \n",
    "\n",
    "R: Patents are responsible for the public disclosure of a new method of operating any aspect of an economic company \n",
    "\n",
    "5.\t**Mention some objective of the patents:** \n",
    "\n",
    "A: The answer may vary, because patents protect technological inventions; this means that products or processes that provide new technological solutions to problems. \n",
    "\n",
    "6.\t**How are ICT Patents identified to society?** \n",
    "\n",
    "A: ICT patents are mainly identified using International Patent Classification codes. They cover 13 areas, e.g: high-capacity information analysis, mobile communications, among others. \n",
    "\n",
    "7.\t**Describe how ICT has impacted in the health area:** \n",
    "\n",
    "A: It helps the management to improve the patient safety and satisfaction, get updated to the latest technology, have some knowledge on population health & statistics and keep a note on the government mandates on track.\n"
   ]
  },
  {
   "cell_type": "markdown",
   "metadata": {},
   "source": [
    "#### REFERENCES\n",
    "\n",
    "[1]   \tW. Business?, P. Imperative? and C. Management, \"Information Communication Technology in HealthCare | Uses of ICT\", Frontenders Blog, 2021. [Online]. Available: https://www.frontenders.in/blog/information-communication-technology-healthcare.html. [Accessed: 22- Sep- 2021].\n",
    "\n",
    "[2]\t2021. [Online]. Available: https://repositorio.cepal.org/bitstream/handle/11362/36931/1/newsletterelac18eng_en.pdf. [Accessed: 23- Sep- 2021].\n",
    "\n",
    "[3]\t\"7 Elements of a Data Strategy\", Analytics8, 2021. [Online]. Available: https://www.analytics8.com/blog/7-elements-of-a-data-strategy/#. [Accessed: 23- Sep- 2021].\n",
    "\n",
    "[4]\t\"OECD Going Digital Toolkit\", Goingdigital.oecd.org, 2021. [Online]. Available: https://goingdigital.oecd.org/indicator/33. [Accessed: 24- Sep- 2021].\n",
    "\n",
    "[5]\t\"What is a Patent? - Definition from Techopedia\", Techopedia.com, 2021. [Online]. Available: https://www.techopedia.com/definition/24243/patent. [Accessed: 24- Sep- 2021].\n",
    "\n",
    "\n",
    "\n"
   ]
  },
  {
   "cell_type": "code",
   "execution_count": null,
   "metadata": {},
   "outputs": [],
   "source": []
  }
 ],
 "metadata": {
  "kernelspec": {
   "display_name": "Python 3",
   "language": "python",
   "name": "python3"
  },
  "language_info": {
   "codemirror_mode": {
    "name": "ipython",
    "version": 3
   },
   "file_extension": ".py",
   "mimetype": "text/x-python",
   "name": "python",
   "nbconvert_exporter": "python",
   "pygments_lexer": "ipython3",
   "version": "3.7.4"
  }
 },
 "nbformat": 4,
 "nbformat_minor": 2
}
